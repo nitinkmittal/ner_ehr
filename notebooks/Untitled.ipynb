{
 "cells": [
  {
   "cell_type": "code",
   "execution_count": 1,
   "metadata": {},
   "outputs": [],
   "source": [
    "%load_ext autoreload\n",
    "%autoreload 2"
   ]
  },
  {
   "cell_type": "code",
   "execution_count": 2,
   "metadata": {},
   "outputs": [],
   "source": [
    "import pandas as pd\n",
    "import numpy as np"
   ]
  },
  {
   "cell_type": "code",
   "execution_count": 15,
   "metadata": {},
   "outputs": [],
   "source": [
    "from ner_ehr.data.ehr import EHR\n",
    "from ner_ehr.data.utils import df_to_namedtuples\n",
    "from ner_ehr.data.utils import split_annotated_tokens_in_batches"
   ]
  },
  {
   "cell_type": "code",
   "execution_count": 7,
   "metadata": {},
   "outputs": [],
   "source": [
    "fp = \"../processed/train/100035-tokens-with-annotations.csv\"\n",
    "ehr = EHR()\n",
    "ann_tokens_df = ehr.read_csv_tokens_with_annotations(fp)"
   ]
  },
  {
   "cell_type": "code",
   "execution_count": 10,
   "metadata": {},
   "outputs": [
    {
     "data": {
      "text/html": [
       "<div>\n",
       "<style scoped>\n",
       "    .dataframe tbody tr th:only-of-type {\n",
       "        vertical-align: middle;\n",
       "    }\n",
       "\n",
       "    .dataframe tbody tr th {\n",
       "        vertical-align: top;\n",
       "    }\n",
       "\n",
       "    .dataframe thead th {\n",
       "        text-align: right;\n",
       "    }\n",
       "</style>\n",
       "<table border=\"1\" class=\"dataframe\">\n",
       "  <thead>\n",
       "    <tr style=\"text-align: right;\">\n",
       "      <th></th>\n",
       "      <th>doc_id</th>\n",
       "      <th>token</th>\n",
       "      <th>start_idx</th>\n",
       "      <th>end_idx</th>\n",
       "      <th>entity</th>\n",
       "    </tr>\n",
       "  </thead>\n",
       "  <tbody>\n",
       "    <tr>\n",
       "      <th>0</th>\n",
       "      <td>100035</td>\n",
       "      <td>Admission</td>\n",
       "      <td>0</td>\n",
       "      <td>9</td>\n",
       "      <td>O</td>\n",
       "    </tr>\n",
       "    <tr>\n",
       "      <th>1</th>\n",
       "      <td>100035</td>\n",
       "      <td>Date</td>\n",
       "      <td>10</td>\n",
       "      <td>14</td>\n",
       "      <td>O</td>\n",
       "    </tr>\n",
       "    <tr>\n",
       "      <th>2</th>\n",
       "      <td>100035</td>\n",
       "      <td>:</td>\n",
       "      <td>14</td>\n",
       "      <td>15</td>\n",
       "      <td>O</td>\n",
       "    </tr>\n",
       "    <tr>\n",
       "      <th>3</th>\n",
       "      <td>100035</td>\n",
       "      <td>[</td>\n",
       "      <td>17</td>\n",
       "      <td>18</td>\n",
       "      <td>O</td>\n",
       "    </tr>\n",
       "    <tr>\n",
       "      <th>4</th>\n",
       "      <td>100035</td>\n",
       "      <td>*</td>\n",
       "      <td>18</td>\n",
       "      <td>19</td>\n",
       "      <td>O</td>\n",
       "    </tr>\n",
       "    <tr>\n",
       "      <th>...</th>\n",
       "      <td>...</td>\n",
       "      <td>...</td>\n",
       "      <td>...</td>\n",
       "      <td>...</td>\n",
       "      <td>...</td>\n",
       "    </tr>\n",
       "    <tr>\n",
       "      <th>3979</th>\n",
       "      <td>100035</td>\n",
       "      <td>Best</td>\n",
       "      <td>18909</td>\n",
       "      <td>18913</td>\n",
       "      <td>O</td>\n",
       "    </tr>\n",
       "    <tr>\n",
       "      <th>3980</th>\n",
       "      <td>100035</td>\n",
       "      <td>Parking</td>\n",
       "      <td>18914</td>\n",
       "      <td>18921</td>\n",
       "      <td>O</td>\n",
       "    </tr>\n",
       "    <tr>\n",
       "      <th>3981</th>\n",
       "      <td>100035</td>\n",
       "      <td>:</td>\n",
       "      <td>18921</td>\n",
       "      <td>18922</td>\n",
       "      <td>O</td>\n",
       "    </tr>\n",
       "    <tr>\n",
       "      <th>3982</th>\n",
       "      <td>100035</td>\n",
       "      <td>Main</td>\n",
       "      <td>18923</td>\n",
       "      <td>18927</td>\n",
       "      <td>O</td>\n",
       "    </tr>\n",
       "    <tr>\n",
       "      <th>3983</th>\n",
       "      <td>100035</td>\n",
       "      <td>Garage</td>\n",
       "      <td>18928</td>\n",
       "      <td>18934</td>\n",
       "      <td>O</td>\n",
       "    </tr>\n",
       "  </tbody>\n",
       "</table>\n",
       "<p>3984 rows × 5 columns</p>\n",
       "</div>"
      ],
      "text/plain": [
       "      doc_id      token  start_idx  end_idx entity\n",
       "0     100035  Admission          0        9      O\n",
       "1     100035       Date         10       14      O\n",
       "2     100035          :         14       15      O\n",
       "3     100035          [         17       18      O\n",
       "4     100035          *         18       19      O\n",
       "...      ...        ...        ...      ...    ...\n",
       "3979  100035       Best      18909    18913      O\n",
       "3980  100035    Parking      18914    18921      O\n",
       "3981  100035          :      18921    18922      O\n",
       "3982  100035       Main      18923    18927      O\n",
       "3983  100035     Garage      18928    18934      O\n",
       "\n",
       "[3984 rows x 5 columns]"
      ]
     },
     "execution_count": 10,
     "metadata": {},
     "output_type": "execute_result"
    }
   ],
   "source": [
    "ann_tokens_df"
   ]
  },
  {
   "cell_type": "code",
   "execution_count": 13,
   "metadata": {},
   "outputs": [
    {
     "data": {
      "text/plain": [
       "<AxesSubplot:>"
      ]
     },
     "execution_count": 13,
     "metadata": {},
     "output_type": "execute_result"
    },
    {
     "data": {
      "image/png": "[encoded data removed]",
      "text/plain": [
       "<Figure size 432x288 with 1 Axes>"
      ]
     },
     "metadata": {
      "needs_background": "light"
     },
     "output_type": "display_data"
    }
   ],
   "source": [
    "ann_tokens_df[\"entity\"].value_counts().plot.bar()"
   ]
  },
  {
   "cell_type": "code",
   "execution_count": 14,
   "metadata": {},
   "outputs": [
    {
     "data": {
      "text/plain": [
       "[Annotation(doc_id='100035', token='Admission', start_idx=0, end_idx=9, entity='O'),\n",
       " Annotation(doc_id='100035', token='Date', start_idx=10, end_idx=14, entity='O'),\n",
       " Annotation(doc_id='100035', token=':', start_idx=14, end_idx=15, entity='O'),\n",
       " Annotation(doc_id='100035', token='[', start_idx=17, end_idx=18, entity='O')]"
      ]
     },
     "execution_count": 14,
     "metadata": {},
     "output_type": "execute_result"
    }
   ],
   "source": [
    "ann_tokens = df_to_namedtuples(name=\"Annotation\", df=ann_tokens_df)\n",
    "ann_tokens[:4]"
   ]
  },
  {
   "cell_type": "code",
   "execution_count": 18,
   "metadata": {},
   "outputs": [
    {
     "data": {
      "text/plain": [
       "[234,\n",
       " 234,\n",
       " 234,\n",
       " 234,\n",
       " 234,\n",
       " 234,\n",
       " 234,\n",
       " 234,\n",
       " 234,\n",
       " 234,\n",
       " 234,\n",
       " 234,\n",
       " 234,\n",
       " 231,\n",
       " 234,\n",
       " 234,\n",
       " 234,\n",
       " 9]"
      ]
     },
     "execution_count": 18,
     "metadata": {},
     "output_type": "execute_result"
    }
   ],
   "source": [
    "seqs = split_annotated_tokens_in_batches(ann_tokens, seq_length=234)\n",
    "[len(seq) for seq in seqs]"
   ]
  },
  {
   "cell_type": "code",
   "execution_count": 20,
   "metadata": {},
   "outputs": [
    {
     "data": {
      "text/plain": [
       "[Annotation(doc_id='100035', token='Admission', start_idx=0, end_idx=9, entity='O'),\n",
       " Annotation(doc_id='100035', token='Date', start_idx=10, end_idx=14, entity='O'),\n",
       " Annotation(doc_id='100035', token=':', start_idx=14, end_idx=15, entity='O'),\n",
       " Annotation(doc_id='100035', token='[', start_idx=17, end_idx=18, entity='O'),\n",
       " Annotation(doc_id='100035', token='*', start_idx=18, end_idx=19, entity='O'),\n",
       " Annotation(doc_id='100035', token='*', start_idx=19, end_idx=20, entity='O'),\n",
       " Annotation(doc_id='100035', token='2115-2-22', start_idx=20, end_idx=29, entity='O'),\n",
       " Annotation(doc_id='100035', token='*', start_idx=29, end_idx=30, entity='O'),\n",
       " Annotation(doc_id='100035', token='*', start_idx=30, end_idx=31, entity='O'),\n",
       " Annotation(doc_id='100035', token=']', start_idx=31, end_idx=32, entity='O')]"
      ]
     },
     "execution_count": 20,
     "metadata": {},
     "output_type": "execute_result"
    }
   ],
   "source": [
    "seqs[0][:10]"
   ]
  },
  {
   "cell_type": "code",
   "execution_count": 10,
   "metadata": {},
   "outputs": [],
   "source": [
    "# import spacy\n",
    "# from spacy import displacy\n",
    "\n",
    "# for i, (start, end) in enumerate(para_start_indexes3):\n",
    "#     print(f\"{'='*50}{i}{'='*50}\")\n",
    "#     window = 10\n",
    "#     idx = (end - start + 2*window)//2\n",
    "    \n",
    "#     string = text[start-window:end+window]\n",
    "    \n",
    "#     ex = [{\"text\": string, \n",
    "#        \"ents\": [{\"start\": idx-1, \"end\": idx+1, \"label\": \"O\"}],\n",
    "#        \"title\": None}]\n",
    "#     html = displacy.render(ex, style=\"ent\", manual=True)"
   ]
  }
 ],
 "metadata": {
  "kernelspec": {
   "display_name": "ner_ehr",
   "language": "python",
   "name": "ner_ehr"
  },
  "language_info": {
   "codemirror_mode": {
    "name": "ipython",
    "version": 3
   },
   "file_extension": ".py",
   "mimetype": "text/x-python",
   "name": "python",
   "nbconvert_exporter": "python",
   "pygments_lexer": "ipython3",
   "version": "3.6.9"
  }
 },
 "nbformat": 4,
 "nbformat_minor": 4
}
