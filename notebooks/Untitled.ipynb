{
 "cells": [
  {
   "cell_type": "markdown",
   "id": "de5c7840-34da-45b6-8bf3-f1cc6ff6947a",
   "metadata": {},
   "source": [
    "1. Pipeline to train and validate models\n",
    "    - PyTorch Dataset -> Dataloader -> wrap PyTorch Lightning (PL) DataModule -> Wrap model by PL -> CSV Logger (metrics track + checkpoint + version models + hyper-parameters)\n",
    "    \n",
    "    - Pytorch Dataset\n",
    "\n",
    "2. Evaluation of models\n",
    "   - Sequence squeezing from IOB NER -> vanilla NER\n",
    "   \n",
    "3. Visualization"
   ]
  },
  {
   "cell_type": "code",
   "execution_count": null,
   "id": "6ed51604-d19e-4d2b-bad7-787dbfa1c555",
   "metadata": {},
   "outputs": [],
   "source": [
    "table\n",
    "entity->total->found vectors\n",
    "1. O 100000 50000\n",
    "2. B-Frequency 723 213\n"
   ]
  }
 ],
 "metadata": {
  "kernelspec": {
   "display_name": "ner_ehr",
   "language": "python",
   "name": "ner_ehr"
  },
  "language_info": {
   "codemirror_mode": {
    "name": "ipython",
    "version": 3
   },
   "file_extension": ".py",
   "mimetype": "text/x-python",
   "name": "python",
   "nbconvert_exporter": "python",
   "pygments_lexer": "ipython3",
   "version": "3.6.9"
  }
 },
 "nbformat": 4,
 "nbformat_minor": 5
}
