{
 "cells": [
  {
   "cell_type": "code",
   "execution_count": 1,
   "metadata": {},
   "outputs": [],
   "source": [
    "%load_ext autoreload\n",
    "%autoreload 2"
   ]
  },
  {
   "cell_type": "code",
   "execution_count": 2,
   "metadata": {},
   "outputs": [],
   "source": [
    "import pandas as pd\n",
    "import numpy as np"
   ]
  },
  {
   "cell_type": "code",
   "execution_count": 3,
   "metadata": {},
   "outputs": [],
   "source": [
    "from custom_parsers import CustomAnnotationParser, CustomTokenParser, read_record\n",
    "from ner_ehr.tokenizers import (\n",
    "    ScispacyTokenizer, \n",
    "    SplitTokenizer, \n",
    "    NLTKTokenizer,\n",
    "    _validate_token_idxs)"
   ]
  },
  {
   "cell_type": "code",
   "execution_count": 4,
   "metadata": {},
   "outputs": [],
   "source": [
    "text_fp = \"data/train/100039.txt\"\n",
    "ann_fp = \"data/train/100039.ann\"\n",
    "\n",
    "# text_fp = \"dummy.txt\"\n",
    "# ann_fp = \"dummy.ann\""
   ]
  },
  {
   "cell_type": "code",
   "execution_count": 5,
   "metadata": {},
   "outputs": [],
   "source": [
    "text = read_record(text_fp)"
   ]
  },
  {
   "cell_type": "code",
   "execution_count": 6,
   "metadata": {},
   "outputs": [
    {
     "data": {
      "text/plain": [
       "<ner_ehr.tokenizers.NLTKTokenizer at 0x2b9d88c04898>"
      ]
     },
     "execution_count": 6,
     "metadata": {},
     "output_type": "execute_result"
    }
   ],
   "source": [
    "# tokenizer = SplitTokenizer(validate_token_idxs=True, splitlines=True)\n",
    "# tokenizer = ScispacyTokenizer(validate_token_idxs=True) \n",
    "tokenizer = NLTKTokenizer(validate_token_idxs=True) \n",
    "tokenizer"
   ]
  },
  {
   "cell_type": "code",
   "execution_count": 7,
   "metadata": {},
   "outputs": [
    {
     "data": {
      "text/plain": [
       "[Annotation(token='Prochlorperazine', start_idx=166, end_idx=182, tag='B-Drug'),\n",
       " Annotation(token='Heparin', start_idx=185, end_idx=192, tag='B-Drug'),\n",
       " Annotation(token='Agents', start_idx=193, end_idx=199, tag='I-Drug'),\n",
       " Annotation(token='anthracycline', start_idx=506, end_idx=519, tag='B-Drug'),\n",
       " Annotation(token='cardiomyopathy', start_idx=528, end_idx=542, tag='B-ADE')]"
      ]
     },
     "execution_count": 7,
     "metadata": {},
     "output_type": "execute_result"
    }
   ],
   "source": [
    "ann_parser = CustomAnnotationParser(tokenizer=tokenizer)\n",
    "annotations = ann_parser(annotations_fp=ann_fp, record_fp=text_fp)\n",
    "annotations[:5]"
   ]
  },
  {
   "cell_type": "code",
   "execution_count": 9,
   "metadata": {},
   "outputs": [
    {
     "data": {
      "text/plain": [
       "[Token(token='Admission', start_idx=0, end_idx=9),\n",
       " Token(token='Date', start_idx=10, end_idx=14),\n",
       " Token(token=':', start_idx=14, end_idx=15),\n",
       " Token(token='[', start_idx=17, end_idx=18),\n",
       " Token(token='*', start_idx=18, end_idx=19)]"
      ]
     },
     "execution_count": 9,
     "metadata": {},
     "output_type": "execute_result"
    }
   ],
   "source": [
    "token_parser = CustomTokenParser(tokenizer=tokenizer,)\n",
    "tokens = token_parser.parse(record_fp=text_fp, annotations=annotations)\n",
    "tokens[:5]"
   ]
  },
  {
   "cell_type": "code",
   "execution_count": 12,
   "metadata": {},
   "outputs": [],
   "source": [
    "from ner_ehr.data.ehr import EHR\n",
    "from ner_ehr.data.utils import df_to_namedtuples\n",
    "fp = \"out/train/100035-tokens-with-annotations.csv\"\n",
    "\n",
    "ehr = EHR()\n",
    "ann_tokens_df = ehr.read_csv_tokens_with_annotations(fp)"
   ]
  },
  {
   "cell_type": "code",
   "execution_count": 17,
   "metadata": {},
   "outputs": [
    {
     "data": {
      "text/plain": [
       "[Annotation(token='Admission', start_idx=0, end_idx=9, tag='O'),\n",
       " Annotation(token='Date', start_idx=10, end_idx=14, tag='O'),\n",
       " Annotation(token=':', start_idx=14, end_idx=15, tag='O'),\n",
       " Annotation(token='[', start_idx=17, end_idx=18, tag='O')]"
      ]
     },
     "execution_count": 17,
     "metadata": {},
     "output_type": "execute_result"
    }
   ],
   "source": [
    "ann_tokens = df_to_namedtuples(name=\"Annotation\", df=ann_tokens_df)\n",
    "ann_tokens[:4]"
   ]
  },
  {
   "cell_type": "code",
   "execution_count": 48,
   "metadata": {},
   "outputs": [
    {
     "data": {
      "text/plain": [
       "[256,\n",
       " 256,\n",
       " 256,\n",
       " 256,\n",
       " 256,\n",
       " 256,\n",
       " 256,\n",
       " 256,\n",
       " 256,\n",
       " 256,\n",
       " 256,\n",
       " 254,\n",
       " 256,\n",
       " 256,\n",
       " 256,\n",
       " 146]"
      ]
     },
     "execution_count": 48,
     "metadata": {},
     "output_type": "execute_result"
    }
   ],
   "source": [
    "from ner_ehr.data.utils import split_annotated_tokens_in_batches\n",
    "seqs = split_annotated_tokens_in_batches(ann_tokens, seq_length=256)\n",
    "[len(seq) for seq in seqs]"
   ]
  },
  {
   "cell_type": "code",
   "execution_count": 56,
   "metadata": {},
   "outputs": [
    {
     "data": {
      "text/plain": [
       "[4, 2, 3, 1, 8]"
      ]
     },
     "execution_count": 56,
     "metadata": {},
     "output_type": "execute_result"
    }
   ],
   "source": [
    "rng = np.random.default_rng(42)\n",
    "l = [8,1,2,3,4]\n",
    "rng.shuffle(l)\n",
    "l"
   ]
  },
  {
   "cell_type": "code",
   "execution_count": 54,
   "metadata": {},
   "outputs": [
    {
     "data": {
      "text/plain": [
       "[4, 2, 3, 1, 8]"
      ]
     },
     "execution_count": 54,
     "metadata": {},
     "output_type": "execute_result"
    }
   ],
   "source": []
  },
  {
   "cell_type": "code",
   "execution_count": 9,
   "metadata": {},
   "outputs": [],
   "source": [
    "_validate_token_idxs(tokens, text=text)"
   ]
  },
  {
   "cell_type": "code",
   "execution_count": 10,
   "metadata": {},
   "outputs": [],
   "source": [
    "# import spacy\n",
    "# from spacy import displacy\n",
    "\n",
    "# for i, (start, end) in enumerate(para_start_indexes3):\n",
    "#     print(f\"{'='*50}{i}{'='*50}\")\n",
    "#     window = 10\n",
    "#     idx = (end - start + 2*window)//2\n",
    "    \n",
    "#     string = text[start-window:end+window]\n",
    "    \n",
    "#     ex = [{\"text\": string, \n",
    "#        \"ents\": [{\"start\": idx-1, \"end\": idx+1, \"label\": \"O\"}],\n",
    "#        \"title\": None}]\n",
    "#     html = displacy.render(ex, style=\"ent\", manual=True)"
   ]
  }
 ],
 "metadata": {
  "kernelspec": {
   "display_name": "ner_ehr",
   "language": "python",
   "name": "ner_ehr"
  },
  "language_info": {
   "codemirror_mode": {
    "name": "ipython",
    "version": 3
   },
   "file_extension": ".py",
   "mimetype": "text/x-python",
   "name": "python",
   "nbconvert_exporter": "python",
   "pygments_lexer": "ipython3",
   "version": "3.6.9"
  }
 },
 "nbformat": 4,
 "nbformat_minor": 4
}
