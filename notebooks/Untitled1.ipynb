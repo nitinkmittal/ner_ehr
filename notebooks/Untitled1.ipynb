{
 "cells": [
  {
   "cell_type": "code",
   "execution_count": 7,
   "id": "141c7db6-7417-46df-8346-46cec2f9b2dd",
   "metadata": {},
   "outputs": [],
   "source": [
    "import pandas as pd\n",
    "\n",
    "from ner_ehr.data.variables import TokenTuple, Token\n"
   ]
  },
  {
   "cell_type": "code",
   "execution_count": 2,
   "id": "cb7e5867-8739-4b6e-8d13-e5aed8680ae9",
   "metadata": {},
   "outputs": [
    {
     "data": {
      "text/plain": [
       "Token(token='arushi', start_idx='2', end_idx='5')"
      ]
     },
     "execution_count": 2,
     "metadata": {},
     "output_type": "execute_result"
    }
   ],
   "source": [
    "TokenTuple('arushi', '2', '5')"
   ]
  },
  {
   "cell_type": "code",
   "execution_count": 4,
   "id": "4971d294-bbac-443b-9aa8-deb78fd26b12",
   "metadata": {},
   "outputs": [],
   "source": [
    "tok = Token('arushi', '2', '5')"
   ]
  },
  {
   "cell_type": "code",
   "execution_count": 5,
   "id": "8c0b52f0-ff36-40ac-b267-b0c1671a9841",
   "metadata": {},
   "outputs": [
    {
     "data": {
      "text/plain": [
       "Token(token='arushi', start_idx=2, end_idx=5)"
      ]
     },
     "execution_count": 5,
     "metadata": {},
     "output_type": "execute_result"
    }
   ],
   "source": [
    "tok()"
   ]
  },
  {
   "cell_type": "code",
   "execution_count": 8,
   "id": "ff3b0515-5715-47f7-9e4d-51f9316e0b72",
   "metadata": {},
   "outputs": [
    {
     "data": {
      "text/html": [
       "<div>\n",
       "<style scoped>\n",
       "    .dataframe tbody tr th:only-of-type {\n",
       "        vertical-align: middle;\n",
       "    }\n",
       "\n",
       "    .dataframe tbody tr th {\n",
       "        vertical-align: top;\n",
       "    }\n",
       "\n",
       "    .dataframe thead th {\n",
       "        text-align: right;\n",
       "    }\n",
       "</style>\n",
       "<table border=\"1\" class=\"dataframe\">\n",
       "  <thead>\n",
       "    <tr style=\"text-align: right;\">\n",
       "      <th></th>\n",
       "      <th>token</th>\n",
       "      <th>start_idx</th>\n",
       "      <th>end_idx</th>\n",
       "      <th>tag</th>\n",
       "    </tr>\n",
       "  </thead>\n",
       "  <tbody>\n",
       "    <tr>\n",
       "      <th>0</th>\n",
       "      <td>Admission</td>\n",
       "      <td>0</td>\n",
       "      <td>9</td>\n",
       "      <td>O</td>\n",
       "    </tr>\n",
       "    <tr>\n",
       "      <th>1</th>\n",
       "      <td>Date</td>\n",
       "      <td>10</td>\n",
       "      <td>14</td>\n",
       "      <td>O</td>\n",
       "    </tr>\n",
       "    <tr>\n",
       "      <th>2</th>\n",
       "      <td>:</td>\n",
       "      <td>14</td>\n",
       "      <td>15</td>\n",
       "      <td>O</td>\n",
       "    </tr>\n",
       "    <tr>\n",
       "      <th>3</th>\n",
       "      <td>[</td>\n",
       "      <td>17</td>\n",
       "      <td>18</td>\n",
       "      <td>O</td>\n",
       "    </tr>\n",
       "    <tr>\n",
       "      <th>4</th>\n",
       "      <td>*</td>\n",
       "      <td>18</td>\n",
       "      <td>19</td>\n",
       "      <td>O</td>\n",
       "    </tr>\n",
       "  </tbody>\n",
       "</table>\n",
       "</div>"
      ],
      "text/plain": [
       "       token  start_idx  end_idx tag\n",
       "0  Admission          0        9   O\n",
       "1       Date         10       14   O\n",
       "2          :         14       15   O\n",
       "3          [         17       18   O\n",
       "4          *         18       19   O"
      ]
     },
     "execution_count": 8,
     "metadata": {},
     "output_type": "execute_result"
    }
   ],
   "source": [
    "df = pd.read_csv('out/train/100035-tokens-with-annotations.csv')\n",
    "df.head()"
   ]
  },
  {
   "cell_type": "code",
   "execution_count": null,
   "id": "a960a71c-b010-4d57-8343-c15bcfec5897",
   "metadata": {},
   "outputs": [],
   "source": [
    "train_dict = {\"token\": {\"tag1\": count, \"tag1\": count}}"
   ]
  },
  {
   "cell_type": "code",
   "execution_count": null,
   "id": "2e2ac487-72a3-4456-97a4-f5bfd3af63dd",
   "metadata": {},
   "outputs": [],
   "source": [
    "test = \"this is a sentence.\" -> [\"this\", \"is\", \"a\", \"sentence\"] ->model(test_tokens) -> (\"this\": [start_idx, end_idx, tag], \"is\": token2,  )"
   ]
  },
  {
   "cell_type": "code",
   "execution_count": null,
   "id": "6e1ab6f3-912e-4ef8-bd6f-9ae9d272ad30",
   "metadata": {},
   "outputs": [],
   "source": [
    "class PyTorchDataset(Dataset):\n",
    "    return List[AnnotatedTuples]\n",
    "\n",
    "DataLoader(dataset, batch_size=32)\n",
    "\n",
    "for x in dataloader:\n",
    "    x: List[Annotated] -> (token, start_idx, end_idx, tag)\n",
    "    \n",
    "    X = token, Y = tag\n",
    "    y_hat = forward(X)\n",
    "    \n",
    "    \n",
    "    \n",
    "    \n",
    "class LSTM(nn.Module):\n",
    "    def forward(x: Tensor):\n",
    "        \"\"\"x: (N, 1, seq_length)\n",
    "        \n",
    "        y: (N, 1, seq_length)\"\"\""
   ]
  }
 ],
 "metadata": {
  "kernelspec": {
   "display_name": "ner_ehr",
   "language": "python",
   "name": "ner_ehr"
  },
  "language_info": {
   "codemirror_mode": {
    "name": "ipython",
    "version": 3
   },
   "file_extension": ".py",
   "mimetype": "text/x-python",
   "name": "python",
   "nbconvert_exporter": "python",
   "pygments_lexer": "ipython3",
   "version": "3.6.9"
  }
 },
 "nbformat": 4,
 "nbformat_minor": 5
}
