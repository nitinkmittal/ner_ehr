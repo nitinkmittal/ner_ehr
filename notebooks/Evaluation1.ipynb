{
 "cells": [
  {
   "cell_type": "code",
   "execution_count": 91,
   "id": "ccc49fa5",
   "metadata": {},
   "outputs": [],
   "source": [
    "import pandas as pd\n",
    "from sklearn.metrics import classification_report"
   ]
  },
  {
   "cell_type": "code",
   "execution_count": 92,
   "id": "c7a8e7dc",
   "metadata": {},
   "outputs": [
    {
     "data": {
      "text/html": [
       "<div>\n",
       "<style scoped>\n",
       "    .dataframe tbody tr th:only-of-type {\n",
       "        vertical-align: middle;\n",
       "    }\n",
       "\n",
       "    .dataframe tbody tr th {\n",
       "        vertical-align: top;\n",
       "    }\n",
       "\n",
       "    .dataframe thead th {\n",
       "        text-align: right;\n",
       "    }\n",
       "</style>\n",
       "<table border=\"1\" class=\"dataframe\">\n",
       "  <thead>\n",
       "    <tr style=\"text-align: right;\">\n",
       "      <th></th>\n",
       "      <th>doc_id</th>\n",
       "      <th>token</th>\n",
       "      <th>start_idx</th>\n",
       "      <th>end_idx</th>\n",
       "      <th>entity</th>\n",
       "    </tr>\n",
       "  </thead>\n",
       "  <tbody>\n",
       "    <tr>\n",
       "      <th>0</th>\n",
       "      <td>121116</td>\n",
       "      <td>Admission</td>\n",
       "      <td>0</td>\n",
       "      <td>9</td>\n",
       "      <td>O</td>\n",
       "    </tr>\n",
       "    <tr>\n",
       "      <th>1</th>\n",
       "      <td>121116</td>\n",
       "      <td>Date</td>\n",
       "      <td>10</td>\n",
       "      <td>14</td>\n",
       "      <td>O</td>\n",
       "    </tr>\n",
       "    <tr>\n",
       "      <th>2</th>\n",
       "      <td>121116</td>\n",
       "      <td>:</td>\n",
       "      <td>14</td>\n",
       "      <td>15</td>\n",
       "      <td>O</td>\n",
       "    </tr>\n",
       "    <tr>\n",
       "      <th>3</th>\n",
       "      <td>121116</td>\n",
       "      <td>[</td>\n",
       "      <td>17</td>\n",
       "      <td>18</td>\n",
       "      <td>O</td>\n",
       "    </tr>\n",
       "    <tr>\n",
       "      <th>4</th>\n",
       "      <td>121116</td>\n",
       "      <td>*</td>\n",
       "      <td>18</td>\n",
       "      <td>19</td>\n",
       "      <td>O</td>\n",
       "    </tr>\n",
       "  </tbody>\n",
       "</table>\n",
       "</div>"
      ],
      "text/plain": [
       "   doc_id      token  start_idx  end_idx entity\n",
       "0  121116  Admission          0        9      O\n",
       "1  121116       Date         10       14      O\n",
       "2  121116          :         14       15      O\n",
       "3  121116          [         17       18      O\n",
       "4  121116          *         18       19      O"
      ]
     },
     "execution_count": 92,
     "metadata": {},
     "output_type": "execute_result"
    }
   ],
   "source": [
    "true_labels = pd.read_excel('test_true.xlsx')\n",
    "true_labels.head()"
   ]
  },
  {
   "cell_type": "code",
   "execution_count": 93,
   "id": "54f87975",
   "metadata": {},
   "outputs": [
    {
     "data": {
      "text/html": [
       "<div>\n",
       "<style scoped>\n",
       "    .dataframe tbody tr th:only-of-type {\n",
       "        vertical-align: middle;\n",
       "    }\n",
       "\n",
       "    .dataframe tbody tr th {\n",
       "        vertical-align: top;\n",
       "    }\n",
       "\n",
       "    .dataframe thead th {\n",
       "        text-align: right;\n",
       "    }\n",
       "</style>\n",
       "<table border=\"1\" class=\"dataframe\">\n",
       "  <thead>\n",
       "    <tr style=\"text-align: right;\">\n",
       "      <th></th>\n",
       "      <th>doc_id</th>\n",
       "      <th>token</th>\n",
       "      <th>start_idx</th>\n",
       "      <th>end_idx</th>\n",
       "      <th>entity</th>\n",
       "    </tr>\n",
       "  </thead>\n",
       "  <tbody>\n",
       "    <tr>\n",
       "      <th>0</th>\n",
       "      <td>121116</td>\n",
       "      <td>Admission</td>\n",
       "      <td>0</td>\n",
       "      <td>9</td>\n",
       "      <td>O</td>\n",
       "    </tr>\n",
       "    <tr>\n",
       "      <th>1</th>\n",
       "      <td>121116</td>\n",
       "      <td>Date</td>\n",
       "      <td>10</td>\n",
       "      <td>14</td>\n",
       "      <td>O</td>\n",
       "    </tr>\n",
       "    <tr>\n",
       "      <th>2</th>\n",
       "      <td>121116</td>\n",
       "      <td>:</td>\n",
       "      <td>14</td>\n",
       "      <td>15</td>\n",
       "      <td>O</td>\n",
       "    </tr>\n",
       "    <tr>\n",
       "      <th>3</th>\n",
       "      <td>121116</td>\n",
       "      <td>[</td>\n",
       "      <td>17</td>\n",
       "      <td>18</td>\n",
       "      <td>O</td>\n",
       "    </tr>\n",
       "    <tr>\n",
       "      <th>4</th>\n",
       "      <td>121116</td>\n",
       "      <td>*</td>\n",
       "      <td>18</td>\n",
       "      <td>19</td>\n",
       "      <td>O</td>\n",
       "    </tr>\n",
       "  </tbody>\n",
       "</table>\n",
       "</div>"
      ],
      "text/plain": [
       "   doc_id      token  start_idx  end_idx entity\n",
       "0  121116  Admission          0        9      O\n",
       "1  121116       Date         10       14      O\n",
       "2  121116          :         14       15      O\n",
       "3  121116          [         17       18      O\n",
       "4  121116          *         18       19      O"
      ]
     },
     "execution_count": 93,
     "metadata": {},
     "output_type": "execute_result"
    }
   ],
   "source": [
    "pred_labels = pd.read_excel('test_pred.xlsx')\n",
    "pred_labels.head()"
   ]
  },
  {
   "cell_type": "code",
   "execution_count": 94,
   "id": "48481eef",
   "metadata": {},
   "outputs": [
    {
     "data": {
      "text/plain": [
       "array(['O', 'B-Drug', 'B-Reason', 'I-Reason', 'B-Strength', 'I-Strength',\n",
       "       'B-Route', 'B-Frequency', 'I-Frequency', 'I-Drug', 'B-Form',\n",
       "       'B-Dosage', 'I-Dosage', 'I-Form', 'I-Duration', 'B-Duration',\n",
       "       'I-Route', 'B-ADE'], dtype=object)"
      ]
     },
     "execution_count": 94,
     "metadata": {},
     "output_type": "execute_result"
    }
   ],
   "source": [
    "pred_labels['entity'].unique()"
   ]
  },
  {
   "cell_type": "code",
   "execution_count": 95,
   "id": "388baf6c",
   "metadata": {},
   "outputs": [],
   "source": [
    "def get_related_tags(true_labels, pred_labels):\n",
    "    \"\"\"\n",
    "    Takes the dataframe and returns concatenated tags\n",
    "    strict_gt = [[Admission, O], [Date, O], [eye, B-ADE, discharge, I-ADE], [the, O]]\n",
    "    pred_gt = [[Admission, O], [Date, O], [eye, B-ADE, discharge, B-drug], [the, O]]\n",
    "    \n",
    "    \"\"\"\n",
    "    \n",
    "    true_tags = true_labels[['token', 'entity']].values.tolist()\n",
    "    pred_tags = pred_labels[['token', 'entity']].values.tolist()\n",
    "    \n",
    "    true_gt = []\n",
    "    pred_gt = []\n",
    "    \n",
    "    j = 0\n",
    "    for i in range(len(true_tags)):\n",
    "        if true_tags[i][1].startswith('I-'):\n",
    "            true_gt[j-1].append(true_tags[i][0])\n",
    "            true_gt[j-1].append(true_tags[i][1])\n",
    "            pred_gt[j-1].append(pred_tags[i][0])  \n",
    "            pred_gt[j-1].append(pred_tags[i][1])\n",
    "        else:\n",
    "            true_gt.append(true_tags[i])\n",
    "            pred_gt.append(pred_tags[i])\n",
    "            j += 1\n",
    "            \n",
    "    return true_gt, pred_gt"
   ]
  },
  {
   "cell_type": "code",
   "execution_count": 96,
   "id": "5ff8af66",
   "metadata": {},
   "outputs": [
    {
     "name": "stdout",
     "output_type": "stream",
     "text": [
      "509547 509547\n"
     ]
    }
   ],
   "source": [
    "true_gt, pred_gt = get_related_tags(true_labels, pred_labels)\n",
    "print(len(true_gt), len(pred_gt))"
   ]
  },
  {
   "cell_type": "code",
   "execution_count": 97,
   "id": "74747de5",
   "metadata": {},
   "outputs": [],
   "source": [
    "def get_predictions(true_gt, pred_gt):\n",
    "    \"\"\"\n",
    "    Takes the concatenated related tokens and tags list and returns three list:\n",
    "    ground truth, strict predictions and loose predictions\n",
    "    \"\"\"\n",
    "\n",
    "    gold_entity = []\n",
    "    pred_strict = []\n",
    "    pred_loose = []\n",
    "\n",
    "    # Loop through the length of predictions and find strict and loose predictions\n",
    "    for i in range(len(true_gt)):\n",
    "        # exact match\n",
    "        if true_gt[i] == pred_gt[i]:\n",
    "            if true_gt[i][1] != 'O':\n",
    "                pred_strict.append(true_gt[i][1].split('-')[1])\n",
    "                pred_loose.append(true_gt[i][1].split('-')[1])\n",
    "            else:\n",
    "                pred_strict.append('O')\n",
    "                pred_loose.append('O')\n",
    "\n",
    "\n",
    "        else:\n",
    "            # loose match\n",
    "            if len([i for i, j in zip(true_gt[i], pred_gt[i]) if i == j]) >= (len(true_gt[i])//2)+1:\n",
    "                if true_gt[i][1] != 'O':\n",
    "                    pred_loose.append(true_gt[i][1].split('-')[1])  \n",
    "                else:   \n",
    "                    pred_loose.append('O')\n",
    "\n",
    "                if pred_gt[i][1] != 'O':\n",
    "                    pred_strict.append(pred_gt[i][1].split('-')[1])\n",
    "                else:\n",
    "                    pred_strict.append('O')\n",
    "\n",
    "\n",
    "            else:\n",
    "                # no match\n",
    "                if pred_gt[i][1] != 'O':\n",
    "                    pred_strict.append(pred_gt[i][1].split('-')[1])\n",
    "                    pred_loose.append(pred_gt[i][1].split('-')[1])\n",
    "                else:\n",
    "                    pred_strict.append('O')\n",
    "                    pred_loose.append('O')\n",
    "\n",
    "        if true_gt[i][1] != 'O':\n",
    "            gold_entity.append(true_gt[i][1].split('-')[1])\n",
    "        else:\n",
    "            gold_entity.append('O')\n",
    "            \n",
    "    return gold_entity, pred_strict, pred_loose"
   ]
  },
  {
   "cell_type": "code",
   "execution_count": 98,
   "id": "7419ed70",
   "metadata": {},
   "outputs": [],
   "source": [
    "gold_entity, pred_strict, pred_loose = get_predictions(true_gt, pred_gt)"
   ]
  },
  {
   "cell_type": "code",
   "execution_count": 99,
   "id": "b0109b4c",
   "metadata": {},
   "outputs": [
    {
     "name": "stdout",
     "output_type": "stream",
     "text": [
      "509547 509547 509547\n"
     ]
    }
   ],
   "source": [
    "print(len(pred_loose), len(pred_strict), len(gold_entity))"
   ]
  },
  {
   "cell_type": "markdown",
   "id": "46cdff99",
   "metadata": {},
   "source": [
    "### Evaluation on Strict predictions"
   ]
  },
  {
   "cell_type": "code",
   "execution_count": 100,
   "id": "60ba88ed",
   "metadata": {},
   "outputs": [
    {
     "name": "stdout",
     "output_type": "stream",
     "text": [
      "              precision    recall  f1-score   support\n",
      "\n",
      "         ADE       0.00      0.00      0.00       672\n",
      "      Dosage       0.86      0.84      0.85      2681\n",
      "        Drug       0.76      0.78      0.77     10582\n",
      "    Duration       0.53      0.48      0.50       378\n",
      "        Form       0.89      0.85      0.87      4359\n",
      "   Frequency       0.58      0.88      0.70      4012\n",
      "           O       0.99      0.99      0.99    476530\n",
      "      Reason       0.35      0.48      0.40      2590\n",
      "       Route       0.83      0.79      0.81      3513\n",
      "    Strength       0.88      0.89      0.89      4230\n",
      "\n",
      "    accuracy                           0.97    509547\n",
      "   macro avg       0.67      0.70      0.68    509547\n",
      "weighted avg       0.97      0.97      0.97    509547\n",
      "\n"
     ]
    }
   ],
   "source": [
    "print(classification_report(y_true=gold_entity,  y_pred=pred_strict))"
   ]
  },
  {
   "cell_type": "markdown",
   "id": "27453b8e",
   "metadata": {},
   "source": [
    "### Evaluation on Loose Predictions"
   ]
  },
  {
   "cell_type": "code",
   "execution_count": 101,
   "id": "f40a235b",
   "metadata": {},
   "outputs": [
    {
     "name": "stdout",
     "output_type": "stream",
     "text": [
      "              precision    recall  f1-score   support\n",
      "\n",
      "         ADE       0.75      0.00      0.01       672\n",
      "      Dosage       0.86      0.84      0.85      2681\n",
      "        Drug       0.76      0.78      0.77     10582\n",
      "    Duration       0.60      0.63      0.62       378\n",
      "        Form       0.89      0.86      0.87      4359\n",
      "   Frequency       0.59      0.89      0.71      4012\n",
      "           O       0.99      0.99      0.99    476530\n",
      "      Reason       0.37      0.51      0.43      2590\n",
      "       Route       0.83      0.79      0.81      3513\n",
      "    Strength       0.89      0.90      0.89      4230\n",
      "\n",
      "    accuracy                           0.97    509547\n",
      "   macro avg       0.75      0.72      0.70    509547\n",
      "weighted avg       0.98      0.97      0.97    509547\n",
      "\n"
     ]
    }
   ],
   "source": [
    "print(classification_report(y_true=gold_entity,  y_pred=pred_loose))"
   ]
  },
  {
   "cell_type": "code",
   "execution_count": null,
   "id": "434ee9a1",
   "metadata": {},
   "outputs": [],
   "source": []
  }
 ],
 "metadata": {
  "kernelspec": {
   "display_name": "Python 3",
   "language": "python",
   "name": "python3"
  },
  "language_info": {
   "codemirror_mode": {
    "name": "ipython",
    "version": 3
   },
   "file_extension": ".py",
   "mimetype": "text/x-python",
   "name": "python",
   "nbconvert_exporter": "python",
   "pygments_lexer": "ipython3",
   "version": "3.6.9"
  }
 },
 "nbformat": 4,
 "nbformat_minor": 5
}
