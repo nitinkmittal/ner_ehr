{
 "cells": [
  {
   "cell_type": "code",
   "execution_count": 1,
   "id": "96c55490-8104-45f9-ac20-64dfc03dd70a",
   "metadata": {},
   "outputs": [],
   "source": [
    "%load_ext autoreload\n",
    "%autoreload 2"
   ]
  },
  {
   "cell_type": "code",
   "execution_count": 2,
   "id": "83bd0f8b-ec9f-45a2-8f26-221a4d9d3b78",
   "metadata": {},
   "outputs": [],
   "source": [
    "import torch\n",
    "from torch import nn\n",
    "import numpy as np\n",
    "from tqdm import tqdm\n",
    "from torch import Tensor"
   ]
  },
  {
   "cell_type": "code",
   "execution_count": 4,
   "id": "03bda351-8832-4bea-837e-b2b772be6b86",
   "metadata": {},
   "outputs": [],
   "source": [
    "from ner_ehr.models import LSTMNERTagger\n",
    "from ner_ehr.losses import cross_entropy"
   ]
  },
  {
   "cell_type": "code",
   "execution_count": 5,
   "id": "1e91a77b-6853-4483-a992-e8fa681251f5",
   "metadata": {},
   "outputs": [],
   "source": [
    "batch_size = 2\n",
    "embedding_dim = 5\n",
    "vocab_size = 7\n",
    "hidden_size = 9\n",
    "num_classes = 13\n",
    "seq_length = 11\n",
    "embedding_weights = torch.randn((vocab_size, embedding_dim))\n",
    "bidirectional = True\n",
    "\n",
    "lstm = LSTMNERTagger(\n",
    "    embedding_dim=embedding_dim, \n",
    "    vocab_size=vocab_size,\n",
    "    hidden_size=hidden_size, \n",
    "    num_classes=num_classes, \n",
    "    bidirectional=bidirectional,\n",
    "    embedding_weights=None)"
   ]
  },
  {
   "cell_type": "code",
   "execution_count": 6,
   "id": "4cd44ed7-f549-4baa-a44b-1a9dbcb887e8",
   "metadata": {},
   "outputs": [
    {
     "name": "stdout",
     "output_type": "stream",
     "text": [
      "torch.Size([2, 11]) torch.Size([2, 11])\n"
     ]
    },
    {
     "data": {
      "text/plain": [
       "torch.Size([2, 11, 13])"
      ]
     },
     "execution_count": 6,
     "metadata": {},
     "output_type": "execute_result"
    }
   ],
   "source": [
    "rng = np.random.default_rng(42)\n",
    "X = rng.choice(vocab_size, size=(batch_size, seq_length))\n",
    "\n",
    "y = rng.choice(num_classes, size=vocab_size, p = [.88,] + [.01]*12)\n",
    "Y = [[y[i] for i in x] for x in X]\n",
    "\n",
    "X = torch.tensor(X)\n",
    "Y = torch.tensor(Y)\n",
    "\n",
    "print(X.shape, Y.shape)\n",
    "\n",
    "Y_hat = lstm(X) # output of lstm cells, final hidden state, final cell state\n",
    "Y_hat.shape"
   ]
  },
  {
   "cell_type": "code",
   "execution_count": 7,
   "id": "c102daf4-e71a-48d8-bd7a-d7e295af2e15",
   "metadata": {},
   "outputs": [
    {
     "name": "stderr",
     "output_type": "stream",
     "text": [
      "                                                                               \r"
     ]
    }
   ],
   "source": [
    "adam = torch.optim.Adam(lstm.parameters(), lr=.001)\n",
    "t = tqdm(range(1000), leave=False, position=0)\n",
    "for i in t:\n",
    "    Y_hat = lstm(X)\n",
    "    loss = cross_entropy(Y_hat=Y_hat, Y=Y)\n",
    "    adam.zero_grad()\n",
    "    loss.backward()\n",
    "    adam.step()\n",
    "    t.set_description(f\"loss: {loss.item()}\")"
   ]
  },
  {
   "cell_type": "code",
   "execution_count": 8,
   "id": "5bb1566c-80db-4c98-858c-16a0d00b0ad2",
   "metadata": {},
   "outputs": [
    {
     "data": {
      "text/plain": [
       "OrderedDict([('weight',\n",
       "              tensor([[ 0.2157,  1.4937,  1.4773, -2.8541,  0.6943],\n",
       "                      [-0.8613,  0.7176,  0.1704, -0.0129, -2.0453],\n",
       "                      [ 1.7008, -1.5388, -1.2685, -0.5501, -0.6152],\n",
       "                      [ 0.1853, -0.4560, -0.8930, -1.1458,  0.5767],\n",
       "                      [-0.9381, -0.8464,  0.0548,  0.1583, -0.5692],\n",
       "                      [ 1.2096, -0.9094,  0.9693,  0.1707, -2.7603],\n",
       "                      [ 0.0352, -0.0475, -0.1072, -0.0768, -1.1837]]))])"
      ]
     },
     "execution_count": 8,
     "metadata": {},
     "output_type": "execute_result"
    }
   ],
   "source": [
    "lstm.embed.state_dict()"
   ]
  },
  {
   "cell_type": "code",
   "execution_count": 9,
   "id": "788c520e-1f48-422d-a087-3c7a6c65acdd",
   "metadata": {},
   "outputs": [],
   "source": [
    "with torch.no_grad():\n",
    "    lstm.eval()\n",
    "    Y_hat = lstm(X)"
   ]
  },
  {
   "cell_type": "code",
   "execution_count": 10,
   "id": "ac846745-cf54-4b3c-b45a-3af04c7dd71b",
   "metadata": {},
   "outputs": [
    {
     "data": {
      "text/plain": [
       "tensor([[5, 0, 0, 0, 0, 0, 5, 0, 0, 5, 0],\n",
       "        [0, 0, 0, 0, 0, 0, 5, 0, 0, 0, 0]])"
      ]
     },
     "execution_count": 10,
     "metadata": {},
     "output_type": "execute_result"
    }
   ],
   "source": [
    "torch.argmax(nn.functional.softmax(Y_hat, dim=-1), dim=-1)"
   ]
  },
  {
   "cell_type": "code",
   "execution_count": 11,
   "id": "d9f4bc21-701e-468d-8979-e849102c7f21",
   "metadata": {},
   "outputs": [
    {
     "data": {
      "text/plain": [
       "tensor([[5, 0, 0, 0, 0, 0, 5, 0, 0, 5, 0],\n",
       "        [0, 0, 0, 0, 0, 0, 5, 0, 0, 0, 0]])"
      ]
     },
     "execution_count": 11,
     "metadata": {},
     "output_type": "execute_result"
    }
   ],
   "source": [
    "Y"
   ]
  },
  {
   "cell_type": "code",
   "execution_count": 18,
   "id": "77e1d476-6863-4cd9-94ce-9ff579d62dfb",
   "metadata": {},
   "outputs": [
    {
     "data": {
      "text/plain": [
       "tensor(249)"
      ]
     },
     "execution_count": 18,
     "metadata": {},
     "output_type": "execute_result"
    }
   ],
   "source": [
    "(Y==torch.argmax(nn.functional.softmax(Y_hat, dim=-1), dim=-1)).sum()"
   ]
  },
  {
   "cell_type": "code",
   "execution_count": null,
   "id": "b62bee0f-7d71-4e58-b8b5-c226ccb0627a",
   "metadata": {},
   "outputs": [],
   "source": []
  }
 ],
 "metadata": {
  "kernelspec": {
   "display_name": "ner_ehr",
   "language": "python",
   "name": "ner_ehr"
  },
  "language_info": {
   "codemirror_mode": {
    "name": "ipython",
    "version": 3
   },
   "file_extension": ".py",
   "mimetype": "text/x-python",
   "name": "python",
   "nbconvert_exporter": "python",
   "pygments_lexer": "ipython3",
   "version": "3.6.9"
  }
 },
 "nbformat": 4,
 "nbformat_minor": 5
}
