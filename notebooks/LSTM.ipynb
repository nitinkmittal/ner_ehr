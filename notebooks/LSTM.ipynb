{
 "cells": [
  {
   "cell_type": "code",
   "execution_count": 1,
   "id": "96c55490-8104-45f9-ac20-64dfc03dd70a",
   "metadata": {},
   "outputs": [],
   "source": [
    "%load_ext autoreload\n",
    "%autoreload 2"
   ]
  },
  {
   "cell_type": "code",
   "execution_count": 2,
   "id": "83bd0f8b-ec9f-45a2-8f26-221a4d9d3b78",
   "metadata": {},
   "outputs": [],
   "source": [
    "import torch\n",
    "from torch import nn\n",
    "import numpy as np"
   ]
  },
  {
   "cell_type": "code",
   "execution_count": 15,
   "id": "7629b34c-2085-4466-89ce-8b28da10245c",
   "metadata": {},
   "outputs": [],
   "source": [
    "class LSTMNERTagger(nn.Module):\n",
    "    def __init__(\n",
    "        self, \n",
    "        embedding_dim: int,\n",
    "        vocab_size: int, \n",
    "        hidden_units: int):\n",
    "        super().__init__()\n",
    "        self.embed = nn.Embedding(\n",
    "            num_embeddings=vocab_size,\n",
    "            embedding_dim=embedding_dim)\n",
    "        self.lstm = nn.LSTM(\n",
    "            input_size=embedding_dim, \n",
    "            hidden_size=hidden_units, \n",
    "            batch_first=True)\n",
    "        \n",
    "    def forward(self, x):\n",
    "        x = self.embed(x)\n",
    "        x = self.lstm(x)\n",
    "        return x"
   ]
  },
  {
   "cell_type": "code",
   "execution_count": 16,
   "id": "1e91a77b-6853-4483-a992-e8fa681251f5",
   "metadata": {},
   "outputs": [],
   "source": [
    "batch_size = 2\n",
    "embedding_dim = 3\n",
    "vocab_size = 5\n",
    "hidden_units = 7\n",
    "seq_length = 9\n",
    "# x = torch.randn(,)\n",
    "\n",
    "lstm = LSTMNERTagger(embedding_dim=embedding_dim, vocab_size=vocab_size, hidden_units=hidden_units)\n"
   ]
  },
  {
   "cell_type": "code",
   "execution_count": 34,
   "id": "959dc640-d7a8-47b7-a9bd-8aaeb0362910",
   "metadata": {},
   "outputs": [
    {
     "data": {
      "text/plain": [
       "(tensor([[0, 3, 3, 2, 2, 4, 0, 3, 1],\n",
       "         [0, 2, 4, 3, 3, 3, 3, 2, 0]]),\n",
       " tensor([[4, 1, 1, 2, 2, 0, 4, 1, 2],\n",
       "         [4, 2, 0, 1, 1, 1, 1, 2, 4]]))"
      ]
     },
     "execution_count": 34,
     "metadata": {},
     "output_type": "execute_result"
    }
   ],
   "source": [
    "rng = np.random.default_rng(42)\n",
    "X = rng.choice(vocab_size, size=(batch_size, seq_length))\n",
    "\n",
    "y = rng.choice(vocab_size, size=vocab_size)\n",
    "Y = [[y[i] for i in x] for x in X]\n",
    "\n",
    "X = torch.tensor(X)\n",
    "Y = torch.tensor(Y)\n",
    "\n",
    "X, Y"
   ]
  },
  {
   "cell_type": "code",
   "execution_count": 32,
   "id": "071d0eda-9fad-4ece-8b34-af5d3fed8158",
   "metadata": {},
   "outputs": [
    {
     "data": {
      "text/plain": [
       "tensor([[0, 3, 3, 2, 2, 4, 0, 3, 1],\n",
       "        [0, 2, 4, 3, 3, 3, 3, 2, 0]])"
      ]
     },
     "execution_count": 32,
     "metadata": {},
     "output_type": "execute_result"
    }
   ],
   "source": []
  },
  {
   "cell_type": "code",
   "execution_count": 33,
   "id": "df7c4ef7-de8b-4644-a376-92533e81728d",
   "metadata": {},
   "outputs": [
    {
     "data": {
      "text/plain": [
       "tensor([[4, 1, 1, 2, 2, 0, 4, 1, 2],\n",
       "        [4, 2, 0, 1, 1, 1, 1, 2, 4]])"
      ]
     },
     "execution_count": 33,
     "metadata": {},
     "output_type": "execute_result"
    }
   ],
   "source": [
    "Y"
   ]
  },
  {
   "cell_type": "code",
   "execution_count": 27,
   "id": "35f8c765-f983-4a55-9d29-bb00b0ac2f8e",
   "metadata": {},
   "outputs": [
    {
     "data": {
      "text/plain": [
       "4"
      ]
     },
     "execution_count": 27,
     "metadata": {},
     "output_type": "execute_result"
    }
   ],
   "source": [
    "y"
   ]
  },
  {
   "cell_type": "code",
   "execution_count": 22,
   "id": "e8093d2b-e421-4175-b15e-19d6617c31ad",
   "metadata": {},
   "outputs": [],
   "source": [
    "output, (h_n, c_n) = lstm(x)"
   ]
  },
  {
   "cell_type": "code",
   "execution_count": 23,
   "id": "e19a7cb7-c6c5-41df-b55c-dc2464739a67",
   "metadata": {},
   "outputs": [
    {
     "data": {
      "text/plain": [
       "(torch.Size([2, 9, 7]), torch.Size([1, 2, 7]), torch.Size([1, 2, 7]))"
      ]
     },
     "execution_count": 23,
     "metadata": {},
     "output_type": "execute_result"
    }
   ],
   "source": [
    "output.shape, h_n.shape, c_n.shape"
   ]
  },
  {
   "cell_type": "code",
   "execution_count": null,
   "id": "22197bce-9177-43ce-af5b-f466f87d101b",
   "metadata": {},
   "outputs": [],
   "source": []
  }
 ],
 "metadata": {
  "kernelspec": {
   "display_name": "ner_ehr",
   "language": "python",
   "name": "ner_ehr"
  },
  "language_info": {
   "codemirror_mode": {
    "name": "ipython",
    "version": 3
   },
   "file_extension": ".py",
   "mimetype": "text/x-python",
   "name": "python",
   "nbconvert_exporter": "python",
   "pygments_lexer": "ipython3",
   "version": "3.6.9"
  }
 },
 "nbformat": 4,
 "nbformat_minor": 5
}
